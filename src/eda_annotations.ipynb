{
 "cells": [
  {
   "cell_type": "code",
   "execution_count": 78,
   "id": "39dab765",
   "metadata": {},
   "outputs": [],
   "source": [
    "import matplotlib.pyplot as plt\n",
    "import json\n",
    "import numpy as np\n",
    "import pandas as pd\n",
    "from ast import literal_eval"
   ]
  },
  {
   "cell_type": "code",
   "execution_count": 79,
   "id": "aaa05c97",
   "metadata": {},
   "outputs": [],
   "source": [
    "# df = pd.read_csv(\"../input/test_df_25per.csv\")\n",
    "# os.path.join(DATA_DIR, 'train_images', f'video_{row[\"video_id\"]}', f'{row[\"video_frame\"]}.jpg')\n",
    "# df[df.sequence==996]"
   ]
  },
  {
   "cell_type": "code",
   "execution_count": 80,
   "id": "7ffeaadf",
   "metadata": {},
   "outputs": [],
   "source": [
    "#### train dataset"
   ]
  },
  {
   "cell_type": "code",
   "execution_count": 81,
   "id": "4cebe9f7",
   "metadata": {},
   "outputs": [
    {
     "data": {
      "text/html": [
       "<div>\n",
       "<style scoped>\n",
       "    .dataframe tbody tr th:only-of-type {\n",
       "        vertical-align: middle;\n",
       "    }\n",
       "\n",
       "    .dataframe tbody tr th {\n",
       "        vertical-align: top;\n",
       "    }\n",
       "\n",
       "    .dataframe thead th {\n",
       "        text-align: right;\n",
       "    }\n",
       "</style>\n",
       "<table border=\"1\" class=\"dataframe\">\n",
       "  <thead>\n",
       "    <tr style=\"text-align: right;\">\n",
       "      <th></th>\n",
       "      <th>index</th>\n",
       "      <th>video_id</th>\n",
       "      <th>sequence</th>\n",
       "      <th>video_frame</th>\n",
       "      <th>sequence_frame</th>\n",
       "      <th>image_id</th>\n",
       "      <th>annotations</th>\n",
       "    </tr>\n",
       "  </thead>\n",
       "  <tbody>\n",
       "    <tr>\n",
       "      <th>0</th>\n",
       "      <td>5822</td>\n",
       "      <td>0</td>\n",
       "      <td>996</td>\n",
       "      <td>11462</td>\n",
       "      <td>37</td>\n",
       "      <td>0-11462</td>\n",
       "      <td>[]</td>\n",
       "    </tr>\n",
       "    <tr>\n",
       "      <th>1</th>\n",
       "      <td>5823</td>\n",
       "      <td>0</td>\n",
       "      <td>996</td>\n",
       "      <td>11463</td>\n",
       "      <td>38</td>\n",
       "      <td>0-11463</td>\n",
       "      <td>[]</td>\n",
       "    </tr>\n",
       "    <tr>\n",
       "      <th>2</th>\n",
       "      <td>5824</td>\n",
       "      <td>0</td>\n",
       "      <td>996</td>\n",
       "      <td>11464</td>\n",
       "      <td>39</td>\n",
       "      <td>0-11464</td>\n",
       "      <td>[]</td>\n",
       "    </tr>\n",
       "  </tbody>\n",
       "</table>\n",
       "</div>"
      ],
      "text/plain": [
       "   index  video_id  sequence  video_frame  sequence_frame image_id annotations\n",
       "0   5822         0       996        11462              37  0-11462          []\n",
       "1   5823         0       996        11463              38  0-11463          []\n",
       "2   5824         0       996        11464              39  0-11464          []"
      ]
     },
     "execution_count": 81,
     "metadata": {},
     "output_type": "execute_result"
    }
   ],
   "source": [
    "df = pd.read_csv(\"../input/train_df.csv\")\n",
    "df.head(3)"
   ]
  },
  {
   "cell_type": "code",
   "execution_count": 82,
   "id": "0debf70c",
   "metadata": {},
   "outputs": [
    {
     "data": {
      "text/plain": [
       "1668"
      ]
     },
     "execution_count": 82,
     "metadata": {},
     "output_type": "execute_result"
    }
   ],
   "source": [
    "# number of annotations\n",
    "df.annotations.apply(lambda x: x=='[]').sum()"
   ]
  },
  {
   "cell_type": "code",
   "execution_count": 83,
   "id": "b69ec6ad",
   "metadata": {},
   "outputs": [
    {
     "data": {
      "text/plain": [
       "0.16973618715778996"
      ]
     },
     "execution_count": 83,
     "metadata": {},
     "output_type": "execute_result"
    }
   ],
   "source": [
    "df.annotations.apply(lambda x: x!='[]').sum() / len(df)"
   ]
  },
  {
   "cell_type": "code",
   "execution_count": 84,
   "id": "c08fd059",
   "metadata": {},
   "outputs": [
    {
     "data": {
      "text/plain": [
       "(2009, 341)"
      ]
     },
     "execution_count": 84,
     "metadata": {},
     "output_type": "execute_result"
    }
   ],
   "source": [
    "len(df), df.annotations.apply(lambda x: x!='[]').sum() "
   ]
  },
  {
   "cell_type": "code",
   "execution_count": 85,
   "id": "7c8b5e9d",
   "metadata": {},
   "outputs": [
    {
     "data": {
      "text/plain": [
       "array([40258, 45518, 53708, 59337])"
      ]
     },
     "execution_count": 85,
     "metadata": {},
     "output_type": "execute_result"
    }
   ],
   "source": [
    "df['annot'] = df.annotations.apply(lambda x: len(literal_eval(x)))\n",
    "df[df.annot!=0].sequence.unique() # annot exists"
   ]
  },
  {
   "cell_type": "code",
   "execution_count": 86,
   "id": "aba07c2c",
   "metadata": {},
   "outputs": [
    {
     "data": {
      "text/plain": [
       "array([  996,  8399, 35305, 40258, 45015, 45518, 53708, 59337])"
      ]
     },
     "execution_count": 86,
     "metadata": {},
     "output_type": "execute_result"
    }
   ],
   "source": [
    "df[df.annot==0].sequence.unique() # annot does not exist"
   ]
  },
  {
   "cell_type": "code",
   "execution_count": 90,
   "id": "53456c74",
   "metadata": {},
   "outputs": [
    {
     "data": {
      "text/plain": [
       "<AxesSubplot:ylabel='Frequency'>"
      ]
     },
     "execution_count": 90,
     "metadata": {},
     "output_type": "execute_result"
    },
    {
     "data": {
      "image/png": "[encoded data removed]",
      "text/plain": [
       "<Figure size 432x288 with 1 Axes>"
      ]
     },
     "metadata": {
      "needs_background": "light"
     },
     "output_type": "display_data"
    }
   ],
   "source": [
    "df.annot.plot(kind='hist')"
   ]
  },
  {
   "cell_type": "code",
   "execution_count": 91,
   "id": "378a6ab2",
   "metadata": {},
   "outputs": [],
   "source": [
    "### test dataset"
   ]
  },
  {
   "cell_type": "code",
   "execution_count": 93,
   "id": "62c1f2a4",
   "metadata": {},
   "outputs": [
    {
     "data": {
      "text/html": [
       "<div>\n",
       "<style scoped>\n",
       "    .dataframe tbody tr th:only-of-type {\n",
       "        vertical-align: middle;\n",
       "    }\n",
       "\n",
       "    .dataframe tbody tr th {\n",
       "        vertical-align: top;\n",
       "    }\n",
       "\n",
       "    .dataframe thead th {\n",
       "        text-align: right;\n",
       "    }\n",
       "</style>\n",
       "<table border=\"1\" class=\"dataframe\">\n",
       "  <thead>\n",
       "    <tr style=\"text-align: right;\">\n",
       "      <th></th>\n",
       "      <th>index</th>\n",
       "      <th>video_id</th>\n",
       "      <th>sequence</th>\n",
       "      <th>video_frame</th>\n",
       "      <th>sequence_frame</th>\n",
       "      <th>image_id</th>\n",
       "      <th>annotations</th>\n",
       "    </tr>\n",
       "  </thead>\n",
       "  <tbody>\n",
       "    <tr>\n",
       "      <th>0</th>\n",
       "      <td>6638</td>\n",
       "      <td>0</td>\n",
       "      <td>996</td>\n",
       "      <td>12278</td>\n",
       "      <td>853</td>\n",
       "      <td>0-12278</td>\n",
       "      <td>[{'x': 794, 'y': 386, 'width': 31, 'height': 24}]</td>\n",
       "    </tr>\n",
       "    <tr>\n",
       "      <th>1</th>\n",
       "      <td>6639</td>\n",
       "      <td>0</td>\n",
       "      <td>996</td>\n",
       "      <td>12279</td>\n",
       "      <td>854</td>\n",
       "      <td>0-12279</td>\n",
       "      <td>[{'x': 801, 'y': 389, 'width': 31, 'height': 25}]</td>\n",
       "    </tr>\n",
       "    <tr>\n",
       "      <th>2</th>\n",
       "      <td>6640</td>\n",
       "      <td>0</td>\n",
       "      <td>996</td>\n",
       "      <td>12280</td>\n",
       "      <td>855</td>\n",
       "      <td>0-12280</td>\n",
       "      <td>[{'x': 808, 'y': 393, 'width': 31, 'height': 25}]</td>\n",
       "    </tr>\n",
       "  </tbody>\n",
       "</table>\n",
       "</div>"
      ],
      "text/plain": [
       "   index  video_id  sequence  video_frame  sequence_frame image_id  \\\n",
       "0   6638         0       996        12278             853  0-12278   \n",
       "1   6639         0       996        12279             854  0-12279   \n",
       "2   6640         0       996        12280             855  0-12280   \n",
       "\n",
       "                                         annotations  \n",
       "0  [{'x': 794, 'y': 386, 'width': 31, 'height': 24}]  \n",
       "1  [{'x': 801, 'y': 389, 'width': 31, 'height': 25}]  \n",
       "2  [{'x': 808, 'y': 393, 'width': 31, 'height': 25}]  "
      ]
     },
     "execution_count": 93,
     "metadata": {},
     "output_type": "execute_result"
    }
   ],
   "source": [
    "df = pd.read_csv(\"../input/test_df_25per.csv\")\n",
    "df.head(3)"
   ]
  },
  {
   "cell_type": "code",
   "execution_count": 94,
   "id": "86a68463",
   "metadata": {},
   "outputs": [
    {
     "data": {
      "text/plain": [
       "23"
      ]
     },
     "execution_count": 94,
     "metadata": {},
     "output_type": "execute_result"
    }
   ],
   "source": [
    "# number of annotations\n",
    "df.annotations.apply(lambda x: x=='[]').sum()"
   ]
  },
  {
   "cell_type": "code",
   "execution_count": 95,
   "id": "06a2299a",
   "metadata": {},
   "outputs": [
    {
     "data": {
      "text/plain": [
       "0.54"
      ]
     },
     "execution_count": 95,
     "metadata": {},
     "output_type": "execute_result"
    }
   ],
   "source": [
    "df.annotations.apply(lambda x: x!='[]').sum() / len(df)"
   ]
  },
  {
   "cell_type": "code",
   "execution_count": 96,
   "id": "23456c16",
   "metadata": {},
   "outputs": [
    {
     "data": {
      "text/plain": [
       "(50, 27)"
      ]
     },
     "execution_count": 96,
     "metadata": {},
     "output_type": "execute_result"
    }
   ],
   "source": [
    "len(df), df.annotations.apply(lambda x: x!='[]').sum() "
   ]
  },
  {
   "cell_type": "code",
   "execution_count": 97,
   "id": "74965581",
   "metadata": {},
   "outputs": [
    {
     "data": {
      "text/plain": [
       "array([996])"
      ]
     },
     "execution_count": 97,
     "metadata": {},
     "output_type": "execute_result"
    }
   ],
   "source": [
    "df['annot'] = df.annotations.apply(lambda x: len(literal_eval(x)))\n",
    "df[df.annot!=0].sequence.unique() # annot exists"
   ]
  },
  {
   "cell_type": "code",
   "execution_count": 98,
   "id": "a4237b13",
   "metadata": {},
   "outputs": [
    {
     "data": {
      "text/plain": [
       "array([8399])"
      ]
     },
     "execution_count": 98,
     "metadata": {},
     "output_type": "execute_result"
    }
   ],
   "source": [
    "df[df.annot==0].sequence.unique() # annot does not exist"
   ]
  },
  {
   "cell_type": "code",
   "execution_count": 99,
   "id": "9389b763",
   "metadata": {},
   "outputs": [
    {
     "data": {
      "text/plain": [
       "<AxesSubplot:ylabel='Frequency'>"
      ]
     },
     "execution_count": 99,
     "metadata": {},
     "output_type": "execute_result"
    },
    {
     "data": {
      "image/png": "[encoded data removed]",
      "text/plain": [
       "<Figure size 432x288 with 1 Axes>"
      ]
     },
     "metadata": {
      "needs_background": "light"
     },
     "output_type": "display_data"
    }
   ],
   "source": [
    "df.annot.plot(kind='hist')"
   ]
  },
  {
   "cell_type": "code",
   "execution_count": null,
   "id": "4ca66bf7",
   "metadata": {},
   "outputs": [],
   "source": []
  }
 ],
 "metadata": {
  "kernelspec": {
   "display_name": "Python 3 (ipykernel)",
   "language": "python",
   "name": "python3"
  },
  "language_info": {
   "codemirror_mode": {
    "name": "ipython",
    "version": 3
   },
   "file_extension": ".py",
   "mimetype": "text/x-python",
   "name": "python",
   "nbconvert_exporter": "python",
   "pygments_lexer": "ipython3",
   "version": "3.8.10"
  }
 },
 "nbformat": 4,
 "nbformat_minor": 5
}
